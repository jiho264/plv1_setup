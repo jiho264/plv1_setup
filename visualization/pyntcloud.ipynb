{
 "cells": [
  {
   "cell_type": "markdown",
   "metadata": {},
   "source": [
    "## Please first install these libraries\n",
    "pip install pythreejs pyntcloud pandas numpy"
   ]
  },
  {
   "cell_type": "code",
   "execution_count": 17,
   "metadata": {},
   "outputs": [
    {
     "name": "stderr",
     "output_type": "stream",
     "text": [
      "/home/jiho/.local/lib/python3.8/site-packages/pythreejs/traits.py:203: UserWarning: 64-bit data types not supported for WebGL data, casting to 32-bit.\n",
      "  warnings.warn('64-bit data types not supported for WebGL '\n",
      "/home/jiho/.local/lib/python3.8/site-packages/jupyter_client/session.py:718: UserWarning: Message serialization failed with:\n",
      "Out of range float values are not JSON compliant\n",
      "Supporting this message is deprecated in jupyter-client 7, please make sure your message is JSON-compliant\n",
      "  content = self.pack(content)\n"
     ]
    },
    {
     "data": {
      "application/vnd.jupyter.widget-view+json": {
       "model_id": "6970bef9f5f4415c94fc78bca36a68ed",
       "version_major": 2,
       "version_minor": 0
      },
      "text/plain": [
       "Renderer(camera=PerspectiveCamera(aspect=1.6, fov=90.0, position=(16.769387017163265, 33.4767579378803, 0.3700…"
      ]
     },
     "metadata": {},
     "output_type": "display_data"
    },
    {
     "data": {
      "application/vnd.jupyter.widget-view+json": {
       "model_id": "dcc6dd63a39c48f68276e800b38b600e",
       "version_major": 2,
       "version_minor": 0
      },
      "text/plain": [
       "HBox(children=(Label(value='Point size:'), FloatSlider(value=0.02, max=0.2, step=0.0002), Label(value='Backgro…"
      ]
     },
     "metadata": {},
     "output_type": "display_data"
    }
   ],
   "source": [
    "from pyntcloud import PyntCloud\n",
    "import pandas as pd\n",
    "import os\n",
    "import numpy as np\n",
    "import PIL.Image as Image\n",
    "%matplotlib inline\n",
    "def load_velo_scan(velo_filename):\n",
    "    scan = np.fromfile(velo_filename, dtype=np.float32)\n",
    "    scan = scan.reshape((-1, 4))\n",
    "    return scan\n",
    "def paint_points(points, color=[192,0,0]):\n",
    "    # color = [r, g, b]\n",
    "    color = np.array([color])\n",
    "    new_pts = np.zeros([points.shape[0],6])\n",
    "    new_pts[:,:3] = points\n",
    "    new_pts[:, 3:] = new_pts[:, 3:] + color\n",
    "    return new_pts\n",
    "path = '/home/jiho/plv1/KITTI/object/training/pseudo-lidar_velodyne/000001.bin'\n",
    "points = load_velo_scan(path)[:,:3]\n",
    "pd_points = pd.DataFrame(paint_points(points), columns=['x','y','z','red','green','blue'])\n",
    "cloud = PyntCloud(pd_points)\n",
    "cloud.plot(initial_point_size=0.02)"
   ]
  }
 ],
 "metadata": {
  "kernelspec": {
   "display_name": "Python 3.8.10 64-bit",
   "language": "python",
   "name": "python3"
  },
  "language_info": {
   "codemirror_mode": {
    "name": "ipython",
    "version": 3
   },
   "file_extension": ".py",
   "mimetype": "text/x-python",
   "name": "python",
   "nbconvert_exporter": "python",
   "pygments_lexer": "ipython3",
   "version": "3.8.10"
  },
  "vscode": {
   "interpreter": {
    "hash": "916dbcbb3f70747c44a77c7bcd40155683ae19c65e1c03b4aa3499c5328201f1"
   }
  }
 },
 "nbformat": 4,
 "nbformat_minor": 4
}
