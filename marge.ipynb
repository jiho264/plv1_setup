{
 "cells": [
  {
   "cell_type": "markdown",
   "metadata": {},
   "source": [
    "한 파일에서 모두 처리하기.\n",
    "\n",
    "merge/\n",
    "\n",
    "        KITTI/object/\n",
    "            training/\n",
    "            testing/\n",
    "        models/\n",
    "        finetune_300.tar\n",
    "        run.py"
   ]
  },
  {
   "cell_type": "code",
   "execution_count": null,
   "metadata": {},
   "outputs": [],
   "source": [
    "%cd /home/jiho/plv1/marge"
   ]
  },
  {
   "cell_type": "code",
   "execution_count": null,
   "metadata": {},
   "outputs": [],
   "source": [
    "!CUDA_VISIBLE_DEVICES=0 python3 run.py"
   ]
  },
  {
   "cell_type": "code",
   "execution_count": null,
   "metadata": {},
   "outputs": [],
   "source": [
    "!python3 dydir.py --pl_path /home/jiho/plv1/marge/ --sparse_pl_path ./temp "
   ]
  },
  {
   "cell_type": "code",
   "execution_count": null,
   "metadata": {},
   "outputs": [],
   "source": [
    "from pyntcloud import PyntCloud\n",
    "import pandas as pd\n",
    "import os\n",
    "import numpy as np\n",
    "import PIL.Image as Image\n",
    "%matplotlib inline\n",
    "def load_velo_scan(velo_filename):\n",
    "    scan = np.fromfile(velo_filename, dtype=np.float32)\n",
    "    scan = scan.reshape((-1, 4))\n",
    "    return scan\n",
    "def paint_points(points, color=[192,0,0]):\n",
    "    # color = [r, g, b]\n",
    "    color = np.array([color])\n",
    "    new_pts = np.zeros([points.shape[0],6])\n",
    "    new_pts[:,:3] = points\n",
    "    new_pts[:, 3:] = new_pts[:, 3:] + color\n",
    "    return new_pts\n",
    "# 여기를 보고싶은 .bin 파일의 경로로 수정.\n",
    "path = '/home/jiho/plv1/marge/000003.bin'\n",
    "points = load_velo_scan(path)[:,:3]\n",
    "pd_points = pd.DataFrame(paint_points(points), columns=['x','y','z','red','green','blue'])\n",
    "cloud = PyntCloud(pd_points)\n",
    "cloud.plot(initial_point_size=0.001)"
   ]
  }
 ],
 "metadata": {
  "kernelspec": {
   "display_name": "Python 3.8.10 64-bit",
   "language": "python",
   "name": "python3"
  },
  "language_info": {
   "codemirror_mode": {
    "name": "ipython",
    "version": 3
   },
   "file_extension": ".py",
   "mimetype": "text/x-python",
   "name": "python",
   "nbconvert_exporter": "python",
   "pygments_lexer": "ipython3",
   "version": "3.8.10"
  },
  "orig_nbformat": 4,
  "vscode": {
   "interpreter": {
    "hash": "916dbcbb3f70747c44a77c7bcd40155683ae19c65e1c03b4aa3499c5328201f1"
   }
  }
 },
 "nbformat": 4,
 "nbformat_minor": 2
}
